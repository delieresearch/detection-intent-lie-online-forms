{
 "cells": [
  {
   "cell_type": "code",
   "execution_count": 1,
   "id": "451a5cc4-b5d2-4912-93c9-dfa4a5ae20a4",
   "metadata": {
    "tags": []
   },
   "outputs": [],
   "source": [
    "import pandas as pd\n",
    "import numpy as np\n",
    "\n",
    "from sklearn.ensemble import RandomForestClassifier\n",
    "from sklearn.model_selection import train_test_split\n",
    "\n",
    "from sklearn.tree import DecisionTreeClassifier\n",
    "from sklearn.metrics import classification_report\n",
    "\n",
    "import random\n",
    "\n",
    "from sklearn.svm import LinearSVC\n",
    "from sklearn.feature_selection import SelectFromModel\n",
    "\n",
    "from numpy import mean, std\n",
    "from sklearn.model_selection import cross_val_score\n",
    "from sklearn.model_selection import RepeatedStratifiedKFold\n",
    "from env import *"
   ]
  },
  {
   "cell_type": "code",
   "execution_count": 2,
   "id": "d1c661b1-b42e-4bfa-9a74-a14bad641390",
   "metadata": {},
   "outputs": [],
   "source": [
    "pd.set_option('display.max_columns', None)"
   ]
  },
  {
   "cell_type": "markdown",
   "id": "74178947-a88f-409f-8d18-9b1a8f28810e",
   "metadata": {
    "tags": []
   },
   "source": [
    "# Loading"
   ]
  },
  {
   "cell_type": "code",
   "execution_count": 3,
   "id": "62330477-1aa0-4230-b850-577258c06cf3",
   "metadata": {},
   "outputs": [],
   "source": [
    "df = pd.read_json(DATASET_ONE_PV_PER_ONE_ROW, orient ='records')"
   ]
  },
  {
   "cell_type": "code",
   "execution_count": 4,
   "id": "fae4db1b-bd12-41c8-8e29-fbfef630f41a",
   "metadata": {},
   "outputs": [
    {
     "data": {
      "text/html": [
       "<div>\n",
       "<style scoped>\n",
       "    .dataframe tbody tr th:only-of-type {\n",
       "        vertical-align: middle;\n",
       "    }\n",
       "\n",
       "    .dataframe tbody tr th {\n",
       "        vertical-align: top;\n",
       "    }\n",
       "\n",
       "    .dataframe thead th {\n",
       "        text-align: right;\n",
       "    }\n",
       "</style>\n",
       "<table border=\"1\" class=\"dataframe\">\n",
       "  <thead>\n",
       "    <tr style=\"text-align: right;\">\n",
       "      <th></th>\n",
       "      <th>Session</th>\n",
       "      <th>indicator_fg</th>\n",
       "      <th>Page</th>\n",
       "      <th>Likert_value</th>\n",
       "      <th>Big5</th>\n",
       "      <th>time</th>\n",
       "      <th>duration</th>\n",
       "      <th>distance</th>\n",
       "      <th>x_axis_distance</th>\n",
       "      <th>y_axis_distance</th>\n",
       "      <th>real_ideal_trajectory_diff</th>\n",
       "      <th>max_deviation</th>\n",
       "      <th>velocity</th>\n",
       "      <th>x_axis_vel</th>\n",
       "      <th>y_axis_vel</th>\n",
       "      <th>acc</th>\n",
       "      <th>x_axis_acc</th>\n",
       "      <th>y_axis_acc</th>\n",
       "      <th>auc_diff</th>\n",
       "      <th>clicks</th>\n",
       "      <th>x_flips</th>\n",
       "      <th>y_flips</th>\n",
       "      <th>visits</th>\n",
       "      <th>scrolling</th>\n",
       "      <th>init_time</th>\n",
       "      <th>react_time</th>\n",
       "    </tr>\n",
       "  </thead>\n",
       "  <tbody>\n",
       "    <tr>\n",
       "      <th>0</th>\n",
       "      <td>gsd4FIhsnwaOIMOtoSqX4geVy</td>\n",
       "      <td>1</td>\n",
       "      <td>3</td>\n",
       "      <td>4</td>\n",
       "      <td>1</td>\n",
       "      <td>14236</td>\n",
       "      <td>14893</td>\n",
       "      <td>4099.440429</td>\n",
       "      <td>3635.15625</td>\n",
       "      <td>1076.0</td>\n",
       "      <td>3434.874661</td>\n",
       "      <td>539.568132</td>\n",
       "      <td>0.287963</td>\n",
       "      <td>0.255350</td>\n",
       "      <td>0.075583</td>\n",
       "      <td>0.000020</td>\n",
       "      <td>0.000018</td>\n",
       "      <td>0.000005</td>\n",
       "      <td>50776.687500</td>\n",
       "      <td>2</td>\n",
       "      <td>8</td>\n",
       "      <td>8</td>\n",
       "      <td>1</td>\n",
       "      <td>False</td>\n",
       "      <td>261</td>\n",
       "      <td>7861</td>\n",
       "    </tr>\n",
       "    <tr>\n",
       "      <th>1</th>\n",
       "      <td>gsd4FIhsnwaOIMOtoSqX4geVy</td>\n",
       "      <td>1</td>\n",
       "      <td>4</td>\n",
       "      <td>5</td>\n",
       "      <td>1</td>\n",
       "      <td>2448</td>\n",
       "      <td>4529</td>\n",
       "      <td>1298.103346</td>\n",
       "      <td>1235.43750</td>\n",
       "      <td>354.0</td>\n",
       "      <td>456.372879</td>\n",
       "      <td>123.642760</td>\n",
       "      <td>0.530271</td>\n",
       "      <td>0.504672</td>\n",
       "      <td>0.144608</td>\n",
       "      <td>0.000217</td>\n",
       "      <td>0.000206</td>\n",
       "      <td>0.000059</td>\n",
       "      <td>161737.125000</td>\n",
       "      <td>2</td>\n",
       "      <td>2</td>\n",
       "      <td>1</td>\n",
       "      <td>1</td>\n",
       "      <td>False</td>\n",
       "      <td>470</td>\n",
       "      <td>2520</td>\n",
       "    </tr>\n",
       "    <tr>\n",
       "      <th>2</th>\n",
       "      <td>gsd4FIhsnwaOIMOtoSqX4geVy</td>\n",
       "      <td>1</td>\n",
       "      <td>5</td>\n",
       "      <td>5</td>\n",
       "      <td>1</td>\n",
       "      <td>4051</td>\n",
       "      <td>4355</td>\n",
       "      <td>976.613565</td>\n",
       "      <td>885.84375</td>\n",
       "      <td>329.0</td>\n",
       "      <td>241.107925</td>\n",
       "      <td>18.563896</td>\n",
       "      <td>0.241080</td>\n",
       "      <td>0.218673</td>\n",
       "      <td>0.081215</td>\n",
       "      <td>0.000060</td>\n",
       "      <td>0.000054</td>\n",
       "      <td>0.000020</td>\n",
       "      <td>74979.609375</td>\n",
       "      <td>2</td>\n",
       "      <td>2</td>\n",
       "      <td>4</td>\n",
       "      <td>1</td>\n",
       "      <td>False</td>\n",
       "      <td>281</td>\n",
       "      <td>3316</td>\n",
       "    </tr>\n",
       "    <tr>\n",
       "      <th>3</th>\n",
       "      <td>gsd4FIhsnwaOIMOtoSqX4geVy</td>\n",
       "      <td>1</td>\n",
       "      <td>6</td>\n",
       "      <td>3</td>\n",
       "      <td>1</td>\n",
       "      <td>1432</td>\n",
       "      <td>6039</td>\n",
       "      <td>478.125316</td>\n",
       "      <td>256.78125</td>\n",
       "      <td>300.0</td>\n",
       "      <td>65.496732</td>\n",
       "      <td>81.348974</td>\n",
       "      <td>0.333886</td>\n",
       "      <td>0.179317</td>\n",
       "      <td>0.209497</td>\n",
       "      <td>0.000233</td>\n",
       "      <td>0.000125</td>\n",
       "      <td>0.000146</td>\n",
       "      <td>18163.406250</td>\n",
       "      <td>2</td>\n",
       "      <td>2</td>\n",
       "      <td>3</td>\n",
       "      <td>1</td>\n",
       "      <td>False</td>\n",
       "      <td>2264</td>\n",
       "      <td>3262</td>\n",
       "    </tr>\n",
       "    <tr>\n",
       "      <th>4</th>\n",
       "      <td>gsd4FIhsnwaOIMOtoSqX4geVy</td>\n",
       "      <td>1</td>\n",
       "      <td>7</td>\n",
       "      <td>4</td>\n",
       "      <td>1</td>\n",
       "      <td>3648</td>\n",
       "      <td>4513</td>\n",
       "      <td>645.698909</td>\n",
       "      <td>551.71875</td>\n",
       "      <td>306.0</td>\n",
       "      <td>177.745514</td>\n",
       "      <td>71.096966</td>\n",
       "      <td>0.177001</td>\n",
       "      <td>0.151239</td>\n",
       "      <td>0.083882</td>\n",
       "      <td>0.000049</td>\n",
       "      <td>0.000041</td>\n",
       "      <td>0.000023</td>\n",
       "      <td>91599.750000</td>\n",
       "      <td>2</td>\n",
       "      <td>2</td>\n",
       "      <td>7</td>\n",
       "      <td>1</td>\n",
       "      <td>False</td>\n",
       "      <td>417</td>\n",
       "      <td>3670</td>\n",
       "    </tr>\n",
       "  </tbody>\n",
       "</table>\n",
       "</div>"
      ],
      "text/plain": [
       "                     Session  indicator_fg  Page Likert_value  Big5   time  \\\n",
       "0  gsd4FIhsnwaOIMOtoSqX4geVy             1     3            4     1  14236   \n",
       "1  gsd4FIhsnwaOIMOtoSqX4geVy             1     4            5     1   2448   \n",
       "2  gsd4FIhsnwaOIMOtoSqX4geVy             1     5            5     1   4051   \n",
       "3  gsd4FIhsnwaOIMOtoSqX4geVy             1     6            3     1   1432   \n",
       "4  gsd4FIhsnwaOIMOtoSqX4geVy             1     7            4     1   3648   \n",
       "\n",
       "   duration     distance  x_axis_distance  y_axis_distance  \\\n",
       "0     14893  4099.440429       3635.15625           1076.0   \n",
       "1      4529  1298.103346       1235.43750            354.0   \n",
       "2      4355   976.613565        885.84375            329.0   \n",
       "3      6039   478.125316        256.78125            300.0   \n",
       "4      4513   645.698909        551.71875            306.0   \n",
       "\n",
       "   real_ideal_trajectory_diff  max_deviation  velocity  x_axis_vel  \\\n",
       "0                 3434.874661     539.568132  0.287963    0.255350   \n",
       "1                  456.372879     123.642760  0.530271    0.504672   \n",
       "2                  241.107925      18.563896  0.241080    0.218673   \n",
       "3                   65.496732      81.348974  0.333886    0.179317   \n",
       "4                  177.745514      71.096966  0.177001    0.151239   \n",
       "\n",
       "   y_axis_vel       acc  x_axis_acc  y_axis_acc       auc_diff  clicks  \\\n",
       "0    0.075583  0.000020    0.000018    0.000005   50776.687500       2   \n",
       "1    0.144608  0.000217    0.000206    0.000059  161737.125000       2   \n",
       "2    0.081215  0.000060    0.000054    0.000020   74979.609375       2   \n",
       "3    0.209497  0.000233    0.000125    0.000146   18163.406250       2   \n",
       "4    0.083882  0.000049    0.000041    0.000023   91599.750000       2   \n",
       "\n",
       "   x_flips  y_flips  visits  scrolling  init_time  react_time  \n",
       "0        8        8       1      False        261        7861  \n",
       "1        2        1       1      False        470        2520  \n",
       "2        2        4       1      False        281        3316  \n",
       "3        2        3       1      False       2264        3262  \n",
       "4        2        7       1      False        417        3670  "
      ]
     },
     "execution_count": 4,
     "metadata": {},
     "output_type": "execute_result"
    }
   ],
   "source": [
    "df[:5]"
   ]
  },
  {
   "cell_type": "code",
   "execution_count": 5,
   "id": "6507f44e-4f93-4d48-bcca-fed250baab53",
   "metadata": {},
   "outputs": [
    {
     "data": {
      "text/plain": [
       "6944"
      ]
     },
     "execution_count": 5,
     "metadata": {},
     "output_type": "execute_result"
    }
   ],
   "source": [
    "len(df)"
   ]
  },
  {
   "cell_type": "code",
   "execution_count": 6,
   "id": "f3077101-cdf5-4617-a372-a8fd898f199a",
   "metadata": {},
   "outputs": [
    {
     "name": "stdout",
     "output_type": "stream",
     "text": [
      "<class 'pandas.core.frame.DataFrame'>\n",
      "RangeIndex: 6944 entries, 0 to 6943\n",
      "Data columns (total 26 columns):\n",
      " #   Column                      Non-Null Count  Dtype  \n",
      "---  ------                      --------------  -----  \n",
      " 0   Session                     6944 non-null   object \n",
      " 1   indicator_fg                6944 non-null   int64  \n",
      " 2   Page                        6944 non-null   int64  \n",
      " 3   Likert_value                6944 non-null   object \n",
      " 4   Big5                        6944 non-null   int64  \n",
      " 5   time                        6944 non-null   int64  \n",
      " 6   duration                    6944 non-null   int64  \n",
      " 7   distance                    6944 non-null   float64\n",
      " 8   x_axis_distance             6944 non-null   float64\n",
      " 9   y_axis_distance             6944 non-null   float64\n",
      " 10  real_ideal_trajectory_diff  6898 non-null   float64\n",
      " 11  max_deviation               6898 non-null   float64\n",
      " 12  velocity                    6944 non-null   float64\n",
      " 13  x_axis_vel                  6944 non-null   float64\n",
      " 14  y_axis_vel                  6944 non-null   float64\n",
      " 15  acc                         6944 non-null   float64\n",
      " 16  x_axis_acc                  6944 non-null   float64\n",
      " 17  y_axis_acc                  6944 non-null   float64\n",
      " 18  auc_diff                    6944 non-null   float64\n",
      " 19  clicks                      6944 non-null   int64  \n",
      " 20  x_flips                     6944 non-null   int64  \n",
      " 21  y_flips                     6944 non-null   int64  \n",
      " 22  visits                      6944 non-null   int64  \n",
      " 23  scrolling                   6944 non-null   bool   \n",
      " 24  init_time                   6944 non-null   int64  \n",
      " 25  react_time                  6944 non-null   int64  \n",
      "dtypes: bool(1), float64(12), int64(11), object(2)\n",
      "memory usage: 1.3+ MB\n"
     ]
    }
   ],
   "source": [
    "df.info()"
   ]
  },
  {
   "cell_type": "code",
   "execution_count": 7,
   "id": "bd1b550a-76ce-4e18-b2f2-d1a11777ec57",
   "metadata": {},
   "outputs": [],
   "source": [
    "from sklearn.preprocessing import MinMaxScaler\n",
    "from sklearn.preprocessing import StandardScaler\n",
    "\n",
    "df = df[df['Big5'] == 1]\n",
    "\n",
    "columns_metrics = ['Likert_value', 'time', 'duration', 'distance',\n",
    "       'x_axis_distance', 'y_axis_distance', 'real_ideal_trajectory_diff',\n",
    "       'max_deviation', 'velocity', 'x_axis_vel', 'y_axis_vel', 'acc',\n",
    "       'x_axis_acc', 'y_axis_acc', 'auc_diff', 'clicks', 'x_flips', 'y_flips',\n",
    "       'visits', 'init_time', 'react_time']\n",
    "\n",
    "# scaler = MinMaxScaler()\n",
    "# scaler = StandardScaler()\n",
    "\n",
    "# df[columns_metrics] = scaler.fit_transform(df[columns_metrics])\n",
    "# df[:5]"
   ]
  },
  {
   "cell_type": "markdown",
   "id": "6f7a6ab9-d70a-4014-8f8a-3725452c173f",
   "metadata": {},
   "source": [
    "# Random state"
   ]
  },
  {
   "cell_type": "code",
   "execution_count": 8,
   "id": "35b3b939-063c-4e9a-8bc9-5c701e6da541",
   "metadata": {},
   "outputs": [
    {
     "name": "stdout",
     "output_type": "stream",
     "text": [
      "569229619\n"
     ]
    }
   ],
   "source": [
    "# Seed must be between 0 and 2**32 - 1\n",
    "\n",
    "# random_state = random.randint(0, 2**32 - 1)\n",
    "\n",
    "random_state = 569229619\n",
    "\n",
    "print(random_state)\n",
    "random.seed(random_state)"
   ]
  },
  {
   "cell_type": "markdown",
   "id": "f10f55fe-2a5f-4f2b-9248-8c963cafca81",
   "metadata": {
    "tags": []
   },
   "source": [
    "# Divide: Test & Train"
   ]
  },
  {
   "cell_type": "code",
   "execution_count": 9,
   "id": "c0f587bd-2e70-44e5-8050-6284ea65c80b",
   "metadata": {},
   "outputs": [],
   "source": [
    "df_to_train = df"
   ]
  },
  {
   "cell_type": "markdown",
   "id": "6c62bf5b-d250-4735-ad25-76a79aab1a15",
   "metadata": {},
   "source": [
    "## Select"
   ]
  },
  {
   "cell_type": "code",
   "execution_count": 10,
   "id": "ca8cc86f-cb8c-4d56-bca5-10b7868b9819",
   "metadata": {},
   "outputs": [],
   "source": [
    "def select_sessions(lst, n = 18):\n",
    "    i = 0\n",
    "    selected = []\n",
    "    while i < n:\n",
    "        element = random.choice(lst)\n",
    "        if element not in selected:\n",
    "            selected.append(element)\n",
    "            i += 1\n",
    "    return selected"
   ]
  },
  {
   "cell_type": "code",
   "execution_count": 11,
   "id": "a7d888ce-acde-49b7-aad8-4ba7355adbd0",
   "metadata": {},
   "outputs": [
    {
     "name": "stdout",
     "output_type": "stream",
     "text": [
      "['rBwaeMLAX9nPiQy9BieuiFiAO', 'WX6bamzNklg6PlFfKupotk2FW', '34OsjvpQRQYY2xLKiMczMVFRE', 'VajALjCapZgxxkAzTWNDVWXOB', '903G6972fkr5z0n04P3NfFjIS', '93npiDWQK6VipNjEWLfWafqsr', 'QJpzM76mOzzx41jlZ2cD68ZVr', 'oHWOYzMTNwQN7gGNuwwrc2q58', 'aGWX89ZStczYODlw7byX9cSce', 'ynePoKNeqa1CHW0m54pd86SY1', 'bFWJvlSjZLbgznUva0d86yGwS', 'KOq8m7kgSimUpV4gORbAX574C', 'TZcocph2t67jhKfcZSdo0BBaU', 'MU3B7xrha3Nr3DmLVeeCy7vGG', 'J84AyKOw3eXAhQAE9iZYAYCxB', 'kDtZ55pukriLSh8VOnV6D5h3N', 'niEXFrlkmqE1vexhOLRNtF7uY', 'GIszPEY36M0Y6Zaq2mJQYE2Ev']\n",
      "['lFkmX9UFPQu87VmX3QOtjZ3zK', 'UAytqC2udrP0JcwjdcjhhCNw8', 'KDWak467FmFZN321qc8Qumwhc', 'z5R93zFJCrmP8NAk3yypRkpiz', '8aOLee8TtAaJYBkJgJrQbqw6g', 'D5fYqE7ofhnJGZih8TLcEhdyD', 'n0OYGf6ieNDHT94qgjog5peBJ', 'B9f22juxHTJ70W0mINyPifnCJ', 'OK0LALqyDvRa2oBp6nnkjdks9', '99TUULTfZzD3H9F0bzzHus3c4', '05b1eCn35mhtHiwd3sQNGd0am', 'tseRJkAbZhFUXHnhjPWHBhHmF', 'L6IhgGIgpITGDZBBihX1d92Uv', 'pjbcxDZTIqBgwJId1zjBVZQbS', 'kWXMrfT5jl0TFxhgstlFq9PkE', 'uwMvzBSDsgBHsj50M3MLQmOaw', 'RBPuYafOHOIdMXLQ07pBerkXl', 'bHA4rnvBgjkkSZYmEUAuwUHO8']\n"
     ]
    }
   ],
   "source": [
    "# random test selection\n",
    "\n",
    "fg_list_sessions = list(set(list(df[df['indicator_fg'] == 1]['Session'])))\n",
    "fg_list_sessions.sort()\n",
    "h_list_sessions = list(set(list(df[df['indicator_fg'] == 0]['Session'])))\n",
    "h_list_sessions.sort()\n",
    "\n",
    "fg_selected = select_sessions(fg_list_sessions)\n",
    "h_selected = select_sessions(h_list_sessions)\n",
    "\n",
    "print(fg_selected)\n",
    "print(h_selected)\n",
    "all_selected = fg_selected + h_selected"
   ]
  },
  {
   "cell_type": "code",
   "execution_count": 12,
   "id": "6a2a0781-c010-43cd-800c-7db8c07312d2",
   "metadata": {},
   "outputs": [
    {
     "name": "stdout",
     "output_type": "stream",
     "text": [
      "1728 3648 5376 5376\n"
     ]
    }
   ],
   "source": [
    "df_to_test = df_to_train[df_to_train['Session'].isin(all_selected)]\n",
    "df_to_train = df_to_train[~df_to_train['Session'].isin(all_selected)]\n",
    "print(len(df_to_test), len(df_to_train), len(df), len(df_to_test)+len(df_to_train))"
   ]
  },
  {
   "cell_type": "code",
   "execution_count": 13,
   "id": "9abd0bfa-2112-4430-9c34-b33907fdf70e",
   "metadata": {},
   "outputs": [],
   "source": [
    "df_to_train = df_to_train[df_to_train['Big5'] == 1]\n",
    "df_to_train = df_to_train.drop([\"Session\", \"scrolling\", \"Big5\"], axis=1)\n",
    "df_to_train = df_to_train.dropna()\n",
    "\n",
    "df_to_test = df_to_test[df_to_test['Big5'] == 1]\n",
    "df_to_test = df_to_test.dropna()\n",
    "\n",
    "result_test = df_to_test.to_json(orient=\"records\")\n",
    "with open(CONSTANT_DATASET_FOR_VALIDATION + 'df_to_test.json', 'w') as outfile:\n",
    "    outfile.write(result_test)\n",
    "    \n",
    "result_train = df_to_train.to_json(orient=\"records\")\n",
    "with open(CONSTANT_DATASET_FOR_VALIDATION + 'df_to_train.json', 'w') as outfile:\n",
    "    outfile.write(result_train) "
   ]
  },
  {
   "cell_type": "markdown",
   "id": "d30a68cc-a1d0-4bce-b525-5c2a0dbf3a67",
   "metadata": {
    "tags": []
   },
   "source": [
    "## Feature selection"
   ]
  },
  {
   "cell_type": "markdown",
   "id": "556b4fc2-91e6-4ebf-9039-b6890d2c0327",
   "metadata": {},
   "source": [
    "The following code is insipred by official documentation."
   ]
  },
  {
   "cell_type": "code",
   "execution_count": 14,
   "id": "c78e471b-3bf9-40f9-9933-fe7506c0bdc0",
   "metadata": {},
   "outputs": [
    {
     "name": "stderr",
     "output_type": "stream",
     "text": [
      "C:\\Users\\PeterSmrecek\\Documents\\BP\\BP-venv\\lib\\site-packages\\sklearn\\svm\\_base.py:1206: ConvergenceWarning: Liblinear failed to converge, increase the number of iterations.\n",
      "  warnings.warn(\n",
      "C:\\Users\\PeterSmrecek\\Documents\\BP\\BP-venv\\lib\\site-packages\\sklearn\\base.py:443: UserWarning: X has feature names, but SelectFromModel was fitted without feature names\n",
      "  warnings.warn(\n"
     ]
    },
    {
     "data": {
      "text/plain": [
       "(3630, 12)"
      ]
     },
     "execution_count": 14,
     "metadata": {},
     "output_type": "execute_result"
    }
   ],
   "source": [
    "X_train_lasso = df_to_train.drop(['indicator_fg', 'Page'], axis=1)\n",
    "y_train_lasso = df_to_train['indicator_fg']\n",
    "\n",
    "lsvc = LinearSVC(C=0.03, penalty=\"l1\", dual=False).fit(X_train_lasso, y_train_lasso)\n",
    "model = SelectFromModel(lsvc, prefit=True)\n",
    "X_new = model.transform(X_train_lasso)\n",
    "X_new.shape"
   ]
  },
  {
   "cell_type": "code",
   "execution_count": 15,
   "id": "cf50d616-b0f9-44e4-ad6b-19a5146b0e28",
   "metadata": {},
   "outputs": [
    {
     "data": {
      "text/plain": [
       "['Likert_value',\n",
       " 'time',\n",
       " 'duration',\n",
       " 'distance',\n",
       " 'x_axis_distance',\n",
       " 'y_axis_distance',\n",
       " 'real_ideal_trajectory_diff',\n",
       " 'max_deviation',\n",
       " 'y_flips',\n",
       " 'visits',\n",
       " 'init_time',\n",
       " 'react_time']"
      ]
     },
     "execution_count": 15,
     "metadata": {},
     "output_type": "execute_result"
    }
   ],
   "source": [
    "selected_features = X_train_lasso.columns[(model.get_support())]\n",
    "selected_features = list(selected_features)\n",
    "selected_features"
   ]
  },
  {
   "cell_type": "code",
   "execution_count": 16,
   "id": "660109da-d7c5-481a-9f91-6227c37cd34b",
   "metadata": {},
   "outputs": [],
   "source": [
    "selected_features = ['Likert_value', 'max_deviation', 'velocity', 'x_axis_vel', 'x_axis_acc', 'auc_diff', 'y_flips', 'visits', 'init_time']"
   ]
  },
  {
   "cell_type": "markdown",
   "id": "c19056c5-fea3-4714-a256-c87213bb67c7",
   "metadata": {},
   "source": [
    "## Only t test passed features"
   ]
  },
  {
   "cell_type": "code",
   "execution_count": 17,
   "id": "6bd875df-20db-4672-93cf-106514dd2795",
   "metadata": {},
   "outputs": [],
   "source": [
    "df_to_test2 = df_to_test.drop([\"Session\", \"scrolling\", \"Big5\"], axis=1)\n",
    "df_to_test2 = df_to_test[selected_features + [\"indicator_fg\"]]\n",
    "df_to_train = df_to_train[selected_features + [\"indicator_fg\"]]"
   ]
  },
  {
   "cell_type": "markdown",
   "id": "9d8beffa-a58e-40e8-a191-b96d3a2562db",
   "metadata": {},
   "source": [
    "## Divide"
   ]
  },
  {
   "cell_type": "code",
   "execution_count": 18,
   "id": "3811c502-deee-431e-ad17-17429d6ae152",
   "metadata": {},
   "outputs": [],
   "source": [
    "# df_to_train = df_to_train[selected_features + [\"indicator_fg\"]]\n",
    "# X_train, X_test, y_train, y_test = train_test_split(df_to_train.drop([\"indicator_fg\"], axis=1), \n",
    "#                                                     df_to_train['indicator_fg'], test_size=0.10,\n",
    "#                                                    random_state=random_state)"
   ]
  },
  {
   "cell_type": "code",
   "execution_count": 19,
   "id": "3e0a914c-c452-41da-993d-b5e7d25ff397",
   "metadata": {},
   "outputs": [],
   "source": [
    "X_train = df_to_train.drop([\"indicator_fg\"], axis=1)\n",
    "X_test = df_to_test2.drop([\"indicator_fg\"], axis=1)\n",
    "y_train = df_to_train['indicator_fg']\n",
    "y_test = df_to_test2['indicator_fg']"
   ]
  },
  {
   "cell_type": "code",
   "execution_count": 20,
   "id": "79b2a236-79c8-46e9-b254-1cd0185e6577",
   "metadata": {},
   "outputs": [],
   "source": [
    "result_X_train = X_train.to_json(orient=\"records\")\n",
    "with open(CONSTANT_DATASET_FOR_VALIDATION + 'X_train.json', 'w') as outfile:\n",
    "    outfile.write(result_X_train)\n",
    "    \n",
    "result_X_test = X_test.to_json(orient=\"records\")\n",
    "with open(CONSTANT_DATASET_FOR_VALIDATION + 'X_test.json', 'w') as outfile:\n",
    "    outfile.write(result_X_test)\n",
    "    \n",
    "result_y_train = y_train.to_json(orient=\"records\")\n",
    "with open(CONSTANT_DATASET_FOR_VALIDATION + 'y_train.json', 'w') as outfile:\n",
    "    outfile.write(result_y_train)\n",
    "\n",
    "result_y_test = y_test.to_json(orient=\"records\")\n",
    "with open(CONSTANT_DATASET_FOR_VALIDATION + 'y_test.json', 'w') as outfile:\n",
    "    outfile.write(result_y_test)"
   ]
  },
  {
   "cell_type": "markdown",
   "id": "c1330ea3-29c0-4a9d-8797-9b1a96df002c",
   "metadata": {
    "tags": []
   },
   "source": [
    "# Machine Learning for metrics over **1 row = 1 pageview** dataframe"
   ]
  },
  {
   "cell_type": "markdown",
   "id": "ed94f5d4-3dc1-4789-a7a1-9aae5317b955",
   "metadata": {},
   "source": [
    "The following function is taken from my project developed on the subject Intelligent Data Analysis 2021/2022."
   ]
  },
  {
   "cell_type": "code",
   "execution_count": 21,
   "id": "177f9e14-16f8-4f97-a479-4e2d82614e44",
   "metadata": {},
   "outputs": [],
   "source": [
    "def report_generator(pred_train, pred_test, y_train, y_test, driver_silent, zero_division='warn'):\n",
    "    if not driver_silent:\n",
    "        print(\"Predicting for train dataset:\")\n",
    "        print(classification_report(y_train, pred_train, zero_division=zero_division))\n",
    "\n",
    "        print(\"Predicting for test dataset:\")\n",
    "        print(classification_report(y_test, pred_test, zero_division=zero_division))\n",
    "    \n",
    "    report_train = classification_report(y_train, pred_train, output_dict=True, zero_division=zero_division)\n",
    "    report_test = classification_report(y_test, pred_test, output_dict=True, zero_division=zero_division)\n",
    "    \n",
    "    return report_train, report_test"
   ]
  },
  {
   "cell_type": "markdown",
   "id": "643f3a21-e029-4995-894f-a21a8ae72c62",
   "metadata": {
    "tags": []
   },
   "source": [
    "## Logistic Regression"
   ]
  },
  {
   "cell_type": "code",
   "execution_count": 22,
   "id": "f3f637ab-3be2-4c9d-ba34-eb04858586a2",
   "metadata": {},
   "outputs": [
    {
     "data": {
      "text/html": [
       "<div>\n",
       "<style scoped>\n",
       "    .dataframe tbody tr th:only-of-type {\n",
       "        vertical-align: middle;\n",
       "    }\n",
       "\n",
       "    .dataframe tbody tr th {\n",
       "        vertical-align: top;\n",
       "    }\n",
       "\n",
       "    .dataframe thead th {\n",
       "        text-align: right;\n",
       "    }\n",
       "</style>\n",
       "<table border=\"1\" class=\"dataframe\">\n",
       "  <thead>\n",
       "    <tr style=\"text-align: right;\">\n",
       "      <th></th>\n",
       "      <th>Likert_value</th>\n",
       "      <th>max_deviation</th>\n",
       "      <th>velocity</th>\n",
       "      <th>x_axis_vel</th>\n",
       "      <th>x_axis_acc</th>\n",
       "      <th>auc_diff</th>\n",
       "      <th>y_flips</th>\n",
       "      <th>visits</th>\n",
       "      <th>init_time</th>\n",
       "    </tr>\n",
       "  </thead>\n",
       "  <tbody>\n",
       "    <tr>\n",
       "      <th>0</th>\n",
       "      <td>4</td>\n",
       "      <td>539.568132</td>\n",
       "      <td>0.287963</td>\n",
       "      <td>0.255350</td>\n",
       "      <td>0.000018</td>\n",
       "      <td>50776.687500</td>\n",
       "      <td>8</td>\n",
       "      <td>1</td>\n",
       "      <td>261</td>\n",
       "    </tr>\n",
       "    <tr>\n",
       "      <th>1</th>\n",
       "      <td>5</td>\n",
       "      <td>123.642760</td>\n",
       "      <td>0.530271</td>\n",
       "      <td>0.504672</td>\n",
       "      <td>0.000206</td>\n",
       "      <td>161737.125000</td>\n",
       "      <td>1</td>\n",
       "      <td>1</td>\n",
       "      <td>470</td>\n",
       "    </tr>\n",
       "    <tr>\n",
       "      <th>2</th>\n",
       "      <td>5</td>\n",
       "      <td>18.563896</td>\n",
       "      <td>0.241080</td>\n",
       "      <td>0.218673</td>\n",
       "      <td>0.000054</td>\n",
       "      <td>74979.609375</td>\n",
       "      <td>4</td>\n",
       "      <td>1</td>\n",
       "      <td>281</td>\n",
       "    </tr>\n",
       "    <tr>\n",
       "      <th>3</th>\n",
       "      <td>3</td>\n",
       "      <td>81.348974</td>\n",
       "      <td>0.333886</td>\n",
       "      <td>0.179317</td>\n",
       "      <td>0.000125</td>\n",
       "      <td>18163.406250</td>\n",
       "      <td>3</td>\n",
       "      <td>1</td>\n",
       "      <td>2264</td>\n",
       "    </tr>\n",
       "    <tr>\n",
       "      <th>4</th>\n",
       "      <td>4</td>\n",
       "      <td>71.096966</td>\n",
       "      <td>0.177001</td>\n",
       "      <td>0.151239</td>\n",
       "      <td>0.000041</td>\n",
       "      <td>91599.750000</td>\n",
       "      <td>7</td>\n",
       "      <td>1</td>\n",
       "      <td>417</td>\n",
       "    </tr>\n",
       "    <tr>\n",
       "      <th>...</th>\n",
       "      <td>...</td>\n",
       "      <td>...</td>\n",
       "      <td>...</td>\n",
       "      <td>...</td>\n",
       "      <td>...</td>\n",
       "      <td>...</td>\n",
       "      <td>...</td>\n",
       "      <td>...</td>\n",
       "      <td>...</td>\n",
       "    </tr>\n",
       "    <tr>\n",
       "      <th>6925</th>\n",
       "      <td>4</td>\n",
       "      <td>224.092544</td>\n",
       "      <td>0.227982</td>\n",
       "      <td>0.201875</td>\n",
       "      <td>0.000038</td>\n",
       "      <td>82819.848633</td>\n",
       "      <td>1</td>\n",
       "      <td>1</td>\n",
       "      <td>2174</td>\n",
       "    </tr>\n",
       "    <tr>\n",
       "      <th>6926</th>\n",
       "      <td>4</td>\n",
       "      <td>84.937991</td>\n",
       "      <td>0.220351</td>\n",
       "      <td>0.194159</td>\n",
       "      <td>0.000044</td>\n",
       "      <td>126346.655273</td>\n",
       "      <td>3</td>\n",
       "      <td>1</td>\n",
       "      <td>539</td>\n",
       "    </tr>\n",
       "    <tr>\n",
       "      <th>6927</th>\n",
       "      <td>4</td>\n",
       "      <td>107.518036</td>\n",
       "      <td>0.280394</td>\n",
       "      <td>0.225623</td>\n",
       "      <td>0.000065</td>\n",
       "      <td>127453.637695</td>\n",
       "      <td>6</td>\n",
       "      <td>1</td>\n",
       "      <td>336</td>\n",
       "    </tr>\n",
       "    <tr>\n",
       "      <th>6928</th>\n",
       "      <td>4</td>\n",
       "      <td>282.290524</td>\n",
       "      <td>0.160082</td>\n",
       "      <td>0.128325</td>\n",
       "      <td>0.000013</td>\n",
       "      <td>60848.583984</td>\n",
       "      <td>10</td>\n",
       "      <td>1</td>\n",
       "      <td>2201</td>\n",
       "    </tr>\n",
       "    <tr>\n",
       "      <th>6929</th>\n",
       "      <td>5</td>\n",
       "      <td>91.554735</td>\n",
       "      <td>0.242542</td>\n",
       "      <td>0.209781</td>\n",
       "      <td>0.000046</td>\n",
       "      <td>217507.543945</td>\n",
       "      <td>2</td>\n",
       "      <td>2</td>\n",
       "      <td>430</td>\n",
       "    </tr>\n",
       "  </tbody>\n",
       "</table>\n",
       "<p>3630 rows × 9 columns</p>\n",
       "</div>"
      ],
      "text/plain": [
       "     Likert_value  max_deviation  velocity  x_axis_vel  x_axis_acc  \\\n",
       "0               4     539.568132  0.287963    0.255350    0.000018   \n",
       "1               5     123.642760  0.530271    0.504672    0.000206   \n",
       "2               5      18.563896  0.241080    0.218673    0.000054   \n",
       "3               3      81.348974  0.333886    0.179317    0.000125   \n",
       "4               4      71.096966  0.177001    0.151239    0.000041   \n",
       "...           ...            ...       ...         ...         ...   \n",
       "6925            4     224.092544  0.227982    0.201875    0.000038   \n",
       "6926            4      84.937991  0.220351    0.194159    0.000044   \n",
       "6927            4     107.518036  0.280394    0.225623    0.000065   \n",
       "6928            4     282.290524  0.160082    0.128325    0.000013   \n",
       "6929            5      91.554735  0.242542    0.209781    0.000046   \n",
       "\n",
       "           auc_diff  y_flips  visits  init_time  \n",
       "0      50776.687500        8       1        261  \n",
       "1     161737.125000        1       1        470  \n",
       "2      74979.609375        4       1        281  \n",
       "3      18163.406250        3       1       2264  \n",
       "4      91599.750000        7       1        417  \n",
       "...             ...      ...     ...        ...  \n",
       "6925   82819.848633        1       1       2174  \n",
       "6926  126346.655273        3       1        539  \n",
       "6927  127453.637695        6       1        336  \n",
       "6928   60848.583984       10       1       2201  \n",
       "6929  217507.543945        2       2        430  \n",
       "\n",
       "[3630 rows x 9 columns]"
      ]
     },
     "execution_count": 22,
     "metadata": {},
     "output_type": "execute_result"
    }
   ],
   "source": [
    "X_train"
   ]
  },
  {
   "cell_type": "code",
   "execution_count": 23,
   "id": "fb91aeb4-241c-40dd-8c82-a6574fb5453a",
   "metadata": {},
   "outputs": [],
   "source": [
    "from sklearn.linear_model import LogisticRegression\n",
    "\n",
    "def LogisticRegressionDriver(X_train, X_test, y_train, y_test, driver_silent=True):\n",
    "    clf = LogisticRegression(max_iter=2000000, penalty='none', random_state=random_state)\n",
    "    clf.fit(X_train, y_train)\n",
    "    \n",
    "    pred_train = clf.predict(X_train)\n",
    "    pred_test = clf.predict(X_test)\n",
    "    \n",
    "    return clf, *report_generator(pred_train, pred_test, y_train, y_test, driver_silent)"
   ]
  },
  {
   "cell_type": "code",
   "execution_count": 24,
   "id": "8c60212a-ca1b-4039-9359-fe0ca6ca1978",
   "metadata": {},
   "outputs": [
    {
     "name": "stdout",
     "output_type": "stream",
     "text": [
      "Predicting for train dataset:\n",
      "              precision    recall  f1-score   support\n",
      "\n",
      "           0       0.49      0.19      0.28      1864\n",
      "           1       0.48      0.79      0.60      1766\n",
      "\n",
      "    accuracy                           0.48      3630\n",
      "   macro avg       0.49      0.49      0.44      3630\n",
      "weighted avg       0.49      0.48      0.43      3630\n",
      "\n",
      "Predicting for test dataset:\n",
      "              precision    recall  f1-score   support\n",
      "\n",
      "           0       0.49      0.20      0.29       858\n",
      "           1       0.50      0.79      0.61       856\n",
      "\n",
      "    accuracy                           0.50      1714\n",
      "   macro avg       0.49      0.50      0.45      1714\n",
      "weighted avg       0.49      0.50      0.45      1714\n",
      "\n"
     ]
    }
   ],
   "source": [
    "clf5, train_report5, test_report5 = LogisticRegressionDriver(X_train, X_test, y_train, y_test, driver_silent=False)"
   ]
  },
  {
   "cell_type": "code",
   "execution_count": null,
   "id": "32159fe7-85e5-4eda-92bf-af26d5479ca3",
   "metadata": {},
   "outputs": [],
   "source": []
  },
  {
   "cell_type": "code",
   "execution_count": 25,
   "id": "475b28f3-99a7-4dd8-8337-99f70ee7bfd2",
   "metadata": {},
   "outputs": [],
   "source": [
    "params = {\n",
    "    'penalty' : ['l1', 'l2', 'elasticnet', 'none'], \n",
    "    'solver' : ['newton-cg', 'lbfgs', 'liblinear', 'sag', 'saga'],\n",
    "    'fit_intercept': [True, False]\n",
    "}"
   ]
  },
  {
   "cell_type": "code",
   "execution_count": 26,
   "id": "5fbb2e40-5aa6-4141-a50b-506bcfe1d89b",
   "metadata": {},
   "outputs": [],
   "source": [
    "cls = LogisticRegression(max_iter=2000000)"
   ]
  },
  {
   "cell_type": "code",
   "execution_count": 27,
   "id": "5faac5dd-d580-42b7-839c-ff3e90d2503b",
   "metadata": {},
   "outputs": [],
   "source": [
    "# df_cross_val = df[df['Big5'] == 1]\n",
    "# df_cross_val = df_cross_val[selected_features + [\"indicator_fg\"]]\n",
    "# df_cross_val = df_cross_val.dropna()\n",
    "\n",
    "X = df_to_train.drop([\"indicator_fg\"], axis=1)\n",
    "y = df_to_train[\"indicator_fg\"]"
   ]
  },
  {
   "cell_type": "code",
   "execution_count": 28,
   "id": "282c62fc-8528-4ea1-974d-4189f09945f9",
   "metadata": {},
   "outputs": [],
   "source": [
    "from sklearn.model_selection import GridSearchCV, RandomizedSearchCV\n",
    "gridCV = GridSearchCV(cls, params, cv=3, verbose=4, n_jobs=-1)"
   ]
  },
  {
   "cell_type": "code",
   "execution_count": 29,
   "id": "8101cfe6-5777-41e0-9abc-572dc2c30367",
   "metadata": {
    "collapsed": true,
    "jupyter": {
     "outputs_hidden": true
    },
    "tags": []
   },
   "outputs": [
    {
     "name": "stdout",
     "output_type": "stream",
     "text": [
      "Fitting 3 folds for each of 40 candidates, totalling 120 fits\n"
     ]
    },
    {
     "name": "stderr",
     "output_type": "stream",
     "text": [
      "C:\\Users\\PeterSmrecek\\Documents\\BP\\BP-venv\\lib\\site-packages\\sklearn\\model_selection\\_validation.py:372: FitFailedWarning: \n",
      "54 fits failed out of a total of 120.\n",
      "The score on these train-test partitions for these parameters will be set to nan.\n",
      "If these failures are not expected, you can try to debug them by setting error_score='raise'.\n",
      "\n",
      "Below are more details about the failures:\n",
      "--------------------------------------------------------------------------------\n",
      "6 fits failed with the following error:\n",
      "Traceback (most recent call last):\n",
      "  File \"C:\\Users\\PeterSmrecek\\Documents\\BP\\BP-venv\\lib\\site-packages\\sklearn\\model_selection\\_validation.py\", line 680, in _fit_and_score\n",
      "    estimator.fit(X_train, y_train, **fit_params)\n",
      "  File \"C:\\Users\\PeterSmrecek\\Documents\\BP\\BP-venv\\lib\\site-packages\\sklearn\\linear_model\\_logistic.py\", line 1461, in fit\n",
      "    solver = _check_solver(self.solver, self.penalty, self.dual)\n",
      "  File \"C:\\Users\\PeterSmrecek\\Documents\\BP\\BP-venv\\lib\\site-packages\\sklearn\\linear_model\\_logistic.py\", line 447, in _check_solver\n",
      "    raise ValueError(\n",
      "ValueError: Solver newton-cg supports only 'l2' or 'none' penalties, got l1 penalty.\n",
      "\n",
      "--------------------------------------------------------------------------------\n",
      "6 fits failed with the following error:\n",
      "Traceback (most recent call last):\n",
      "  File \"C:\\Users\\PeterSmrecek\\Documents\\BP\\BP-venv\\lib\\site-packages\\sklearn\\model_selection\\_validation.py\", line 680, in _fit_and_score\n",
      "    estimator.fit(X_train, y_train, **fit_params)\n",
      "  File \"C:\\Users\\PeterSmrecek\\Documents\\BP\\BP-venv\\lib\\site-packages\\sklearn\\linear_model\\_logistic.py\", line 1461, in fit\n",
      "    solver = _check_solver(self.solver, self.penalty, self.dual)\n",
      "  File \"C:\\Users\\PeterSmrecek\\Documents\\BP\\BP-venv\\lib\\site-packages\\sklearn\\linear_model\\_logistic.py\", line 447, in _check_solver\n",
      "    raise ValueError(\n",
      "ValueError: Solver lbfgs supports only 'l2' or 'none' penalties, got l1 penalty.\n",
      "\n",
      "--------------------------------------------------------------------------------\n",
      "6 fits failed with the following error:\n",
      "Traceback (most recent call last):\n",
      "  File \"C:\\Users\\PeterSmrecek\\Documents\\BP\\BP-venv\\lib\\site-packages\\sklearn\\model_selection\\_validation.py\", line 680, in _fit_and_score\n",
      "    estimator.fit(X_train, y_train, **fit_params)\n",
      "  File \"C:\\Users\\PeterSmrecek\\Documents\\BP\\BP-venv\\lib\\site-packages\\sklearn\\linear_model\\_logistic.py\", line 1461, in fit\n",
      "    solver = _check_solver(self.solver, self.penalty, self.dual)\n",
      "  File \"C:\\Users\\PeterSmrecek\\Documents\\BP\\BP-venv\\lib\\site-packages\\sklearn\\linear_model\\_logistic.py\", line 447, in _check_solver\n",
      "    raise ValueError(\n",
      "ValueError: Solver sag supports only 'l2' or 'none' penalties, got l1 penalty.\n",
      "\n",
      "--------------------------------------------------------------------------------\n",
      "6 fits failed with the following error:\n",
      "Traceback (most recent call last):\n",
      "  File \"C:\\Users\\PeterSmrecek\\Documents\\BP\\BP-venv\\lib\\site-packages\\sklearn\\model_selection\\_validation.py\", line 680, in _fit_and_score\n",
      "    estimator.fit(X_train, y_train, **fit_params)\n",
      "  File \"C:\\Users\\PeterSmrecek\\Documents\\BP\\BP-venv\\lib\\site-packages\\sklearn\\linear_model\\_logistic.py\", line 1461, in fit\n",
      "    solver = _check_solver(self.solver, self.penalty, self.dual)\n",
      "  File \"C:\\Users\\PeterSmrecek\\Documents\\BP\\BP-venv\\lib\\site-packages\\sklearn\\linear_model\\_logistic.py\", line 447, in _check_solver\n",
      "    raise ValueError(\n",
      "ValueError: Solver newton-cg supports only 'l2' or 'none' penalties, got elasticnet penalty.\n",
      "\n",
      "--------------------------------------------------------------------------------\n",
      "6 fits failed with the following error:\n",
      "Traceback (most recent call last):\n",
      "  File \"C:\\Users\\PeterSmrecek\\Documents\\BP\\BP-venv\\lib\\site-packages\\sklearn\\model_selection\\_validation.py\", line 680, in _fit_and_score\n",
      "    estimator.fit(X_train, y_train, **fit_params)\n",
      "  File \"C:\\Users\\PeterSmrecek\\Documents\\BP\\BP-venv\\lib\\site-packages\\sklearn\\linear_model\\_logistic.py\", line 1461, in fit\n",
      "    solver = _check_solver(self.solver, self.penalty, self.dual)\n",
      "  File \"C:\\Users\\PeterSmrecek\\Documents\\BP\\BP-venv\\lib\\site-packages\\sklearn\\linear_model\\_logistic.py\", line 447, in _check_solver\n",
      "    raise ValueError(\n",
      "ValueError: Solver lbfgs supports only 'l2' or 'none' penalties, got elasticnet penalty.\n",
      "\n",
      "--------------------------------------------------------------------------------\n",
      "6 fits failed with the following error:\n",
      "Traceback (most recent call last):\n",
      "  File \"C:\\Users\\PeterSmrecek\\Documents\\BP\\BP-venv\\lib\\site-packages\\sklearn\\model_selection\\_validation.py\", line 680, in _fit_and_score\n",
      "    estimator.fit(X_train, y_train, **fit_params)\n",
      "  File \"C:\\Users\\PeterSmrecek\\Documents\\BP\\BP-venv\\lib\\site-packages\\sklearn\\linear_model\\_logistic.py\", line 1461, in fit\n",
      "    solver = _check_solver(self.solver, self.penalty, self.dual)\n",
      "  File \"C:\\Users\\PeterSmrecek\\Documents\\BP\\BP-venv\\lib\\site-packages\\sklearn\\linear_model\\_logistic.py\", line 457, in _check_solver\n",
      "    raise ValueError(\n",
      "ValueError: Only 'saga' solver supports elasticnet penalty, got solver=liblinear.\n",
      "\n",
      "--------------------------------------------------------------------------------\n",
      "6 fits failed with the following error:\n",
      "Traceback (most recent call last):\n",
      "  File \"C:\\Users\\PeterSmrecek\\Documents\\BP\\BP-venv\\lib\\site-packages\\sklearn\\model_selection\\_validation.py\", line 680, in _fit_and_score\n",
      "    estimator.fit(X_train, y_train, **fit_params)\n",
      "  File \"C:\\Users\\PeterSmrecek\\Documents\\BP\\BP-venv\\lib\\site-packages\\sklearn\\linear_model\\_logistic.py\", line 1461, in fit\n",
      "    solver = _check_solver(self.solver, self.penalty, self.dual)\n",
      "  File \"C:\\Users\\PeterSmrecek\\Documents\\BP\\BP-venv\\lib\\site-packages\\sklearn\\linear_model\\_logistic.py\", line 447, in _check_solver\n",
      "    raise ValueError(\n",
      "ValueError: Solver sag supports only 'l2' or 'none' penalties, got elasticnet penalty.\n",
      "\n",
      "--------------------------------------------------------------------------------\n",
      "6 fits failed with the following error:\n",
      "Traceback (most recent call last):\n",
      "  File \"C:\\Users\\PeterSmrecek\\Documents\\BP\\BP-venv\\lib\\site-packages\\sklearn\\model_selection\\_validation.py\", line 680, in _fit_and_score\n",
      "    estimator.fit(X_train, y_train, **fit_params)\n",
      "  File \"C:\\Users\\PeterSmrecek\\Documents\\BP\\BP-venv\\lib\\site-packages\\sklearn\\linear_model\\_logistic.py\", line 1471, in fit\n",
      "    raise ValueError(\n",
      "ValueError: l1_ratio must be between 0 and 1; got (l1_ratio=None)\n",
      "\n",
      "--------------------------------------------------------------------------------\n",
      "6 fits failed with the following error:\n",
      "Traceback (most recent call last):\n",
      "  File \"C:\\Users\\PeterSmrecek\\Documents\\BP\\BP-venv\\lib\\site-packages\\sklearn\\model_selection\\_validation.py\", line 680, in _fit_and_score\n",
      "    estimator.fit(X_train, y_train, **fit_params)\n",
      "  File \"C:\\Users\\PeterSmrecek\\Documents\\BP\\BP-venv\\lib\\site-packages\\sklearn\\linear_model\\_logistic.py\", line 1461, in fit\n",
      "    solver = _check_solver(self.solver, self.penalty, self.dual)\n",
      "  File \"C:\\Users\\PeterSmrecek\\Documents\\BP\\BP-venv\\lib\\site-packages\\sklearn\\linear_model\\_logistic.py\", line 464, in _check_solver\n",
      "    raise ValueError(\"penalty='none' is not supported for the liblinear solver\")\n",
      "ValueError: penalty='none' is not supported for the liblinear solver\n",
      "\n",
      "  warnings.warn(some_fits_failed_message, FitFailedWarning)\n",
      "C:\\Users\\PeterSmrecek\\Documents\\BP\\BP-venv\\lib\\site-packages\\sklearn\\model_selection\\_search.py:969: UserWarning: One or more of the test scores are non-finite: [       nan        nan 0.60440771        nan 0.45950413 0.60192837\n",
      " 0.45895317 0.58071625 0.46088154 0.45950413        nan        nan\n",
      "        nan        nan        nan 0.60385675 0.45895317        nan\n",
      " 0.46088154 0.45950413        nan        nan 0.58898072        nan\n",
      " 0.45950413 0.59090909 0.45895317 0.55812672 0.46060606 0.45950413\n",
      "        nan        nan        nan        nan        nan 0.58512397\n",
      " 0.45895317        nan 0.46060606 0.45950413]\n",
      "  warnings.warn(\n"
     ]
    },
    {
     "data": {
      "text/plain": [
       "GridSearchCV(cv=3, estimator=LogisticRegression(max_iter=2000000), n_jobs=-1,\n",
       "             param_grid={'fit_intercept': [True, False],\n",
       "                         'penalty': ['l1', 'l2', 'elasticnet', 'none'],\n",
       "                         'solver': ['newton-cg', 'lbfgs', 'liblinear', 'sag',\n",
       "                                    'saga']},\n",
       "             verbose=4)"
      ]
     },
     "execution_count": 29,
     "metadata": {},
     "output_type": "execute_result"
    }
   ],
   "source": [
    "gridCV.fit(X, y)"
   ]
  },
  {
   "cell_type": "code",
   "execution_count": 30,
   "id": "9f2db764-d55d-4c8b-b32b-ae16bc7b65e7",
   "metadata": {},
   "outputs": [
    {
     "data": {
      "text/plain": [
       "0.6044077134986225"
      ]
     },
     "execution_count": 30,
     "metadata": {},
     "output_type": "execute_result"
    }
   ],
   "source": [
    "gridCV.best_score_"
   ]
  },
  {
   "cell_type": "code",
   "execution_count": 31,
   "id": "8fc980b1-4e73-4be3-b29f-098bde499bc6",
   "metadata": {},
   "outputs": [
    {
     "data": {
      "text/plain": [
       "LogisticRegression(max_iter=2000000, penalty='l1', solver='liblinear')"
      ]
     },
     "execution_count": 31,
     "metadata": {},
     "output_type": "execute_result"
    }
   ],
   "source": [
    "bestGrid = gridCV.best_estimator_\n",
    "bestGrid"
   ]
  },
  {
   "cell_type": "code",
   "execution_count": 32,
   "id": "8543ac0a-a642-46a2-84c1-bd1564538ad1",
   "metadata": {},
   "outputs": [],
   "source": [
    "gridPred_train = bestGrid.predict(X_train)\n",
    "gridPred = bestGrid.predict(X_test)"
   ]
  },
  {
   "cell_type": "code",
   "execution_count": 33,
   "id": "71755d2d-c0bf-4c51-94bc-0f79947c2ced",
   "metadata": {},
   "outputs": [
    {
     "name": "stdout",
     "output_type": "stream",
     "text": [
      "              precision    recall  f1-score   support\n",
      "\n",
      "           0       0.64      0.59      0.62      1864\n",
      "           1       0.60      0.64      0.62      1766\n",
      "\n",
      "    accuracy                           0.62      3630\n",
      "   macro avg       0.62      0.62      0.62      3630\n",
      "weighted avg       0.62      0.62      0.62      3630\n",
      "\n"
     ]
    }
   ],
   "source": [
    "print(classification_report(y_train, gridPred_train)) "
   ]
  },
  {
   "cell_type": "code",
   "execution_count": 34,
   "id": "958f62c1-d8ff-441a-93da-66e452c813c4",
   "metadata": {},
   "outputs": [
    {
     "name": "stdout",
     "output_type": "stream",
     "text": [
      "              precision    recall  f1-score   support\n",
      "\n",
      "           0       0.65      0.62      0.64       858\n",
      "           1       0.64      0.67      0.65       856\n",
      "\n",
      "    accuracy                           0.64      1714\n",
      "   macro avg       0.64      0.64      0.64      1714\n",
      "weighted avg       0.64      0.64      0.64      1714\n",
      "\n"
     ]
    }
   ],
   "source": [
    "print(classification_report(y_test, gridPred)) "
   ]
  },
  {
   "cell_type": "code",
   "execution_count": null,
   "id": "533ea18d-2fa7-4118-9789-9a6cee3c3049",
   "metadata": {},
   "outputs": [],
   "source": []
  },
  {
   "cell_type": "code",
   "execution_count": null,
   "id": "31d3163d-98ff-4b26-93bc-7849ba137fb8",
   "metadata": {},
   "outputs": [],
   "source": []
  },
  {
   "cell_type": "code",
   "execution_count": null,
   "id": "10190af8-b1a1-406f-a411-dc59d96314c3",
   "metadata": {},
   "outputs": [],
   "source": []
  }
 ],
 "metadata": {
  "kernelspec": {
   "display_name": "BP-venv",
   "language": "python",
   "name": "bp-venv"
  },
  "language_info": {
   "codemirror_mode": {
    "name": "ipython",
    "version": 3
   },
   "file_extension": ".py",
   "mimetype": "text/x-python",
   "name": "python",
   "nbconvert_exporter": "python",
   "pygments_lexer": "ipython3",
   "version": "3.9.7"
  }
 },
 "nbformat": 4,
 "nbformat_minor": 5
}
